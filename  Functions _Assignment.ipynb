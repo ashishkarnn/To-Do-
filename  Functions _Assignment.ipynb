{
  "nbformat": 4,
  "nbformat_minor": 0,
  "metadata": {
    "colab": {
      "provenance": [],
      "authorship_tag": "ABX9TyOD2BSXrTD+CFnI9pUUPDTu",
      "include_colab_link": true
    },
    "kernelspec": {
      "name": "python3",
      "display_name": "Python 3"
    },
    "language_info": {
      "name": "python"
    }
  },
  "cells": [
    {
      "cell_type": "markdown",
      "metadata": {
        "id": "view-in-github",
        "colab_type": "text"
      },
      "source": [
        "<a href=\"https://colab.research.google.com/github/ashishkarnn/To-Do-/blob/main/%20Functions%20_Assignment.ipynb\" target=\"_parent\"><img src=\"https://colab.research.google.com/assets/colab-badge.svg\" alt=\"Open In Colab\"/></a>"
      ]
    },
    {
      "cell_type": "code",
      "execution_count": 1,
      "metadata": {
        "colab": {
          "base_uri": "https://localhost:8080/"
        },
        "id": "0faVkJybMyQz",
        "outputId": "51b11aca-cd25-4eae-cce7-348ad408d0a3"
      },
      "outputs": [
        {
          "output_type": "stream",
          "name": "stdout",
          "text": [
            "Hello\n",
            "Hello from method\n"
          ]
        }
      ],
      "source": [
        "# 1. Difference between a function and a method in Python:\n",
        "# A function is defined independently and can be called anywhere.\n",
        "# A method is a function that belongs to an object or class.\n",
        "\n",
        "def my_function():  # This is a function\n",
        "    return \"Hello\"\n",
        "\n",
        "class MyClass:\n",
        "    def my_method(self):  # This is a method\n",
        "        return \"Hello from method\"\n",
        "\n",
        "obj = MyClass()\n",
        "print(my_function())  # Hello\n",
        "print(obj.my_method())  # Hello from method\n"
      ]
    },
    {
      "cell_type": "code",
      "source": [
        "# 2. Function arguments and parameters in Python:\n",
        "# Parameters are placeholders in a function definition.\n",
        "# Arguments are the actual values you pass when calling the function.\n",
        "\n",
        "def greet(name):  # 'name' is a parameter\n",
        "    return f\"Hello, {name}!\"\n",
        "\n",
        "print(greet(\"Alice\"))  # \"Hello, Alice!\" (Alice is an argument)\n"
      ],
      "metadata": {
        "colab": {
          "base_uri": "https://localhost:8080/"
        },
        "id": "we4uH3KuNPDB",
        "outputId": "c8fa4c20-a275-4d45-9ee8-b27a798b4ec9"
      },
      "execution_count": 11,
      "outputs": [
        {
          "output_type": "stream",
          "name": "stdout",
          "text": [
            "Hello, Alice!\n"
          ]
        }
      ]
    },
    {
      "cell_type": "code",
      "source": [
        "# 3. Ways to define and call a function in Python:\n",
        "\n",
        "# Regular function\n",
        "def add(a, b):\n",
        "    return a + b\n",
        "\n",
        "# Calling the function\n",
        "result = add(5, 3)  # 8\n",
        "\n",
        "# Anonymous function (lambda)\n",
        "multiply = lambda x, y: x * y\n",
        "print(multiply(4, 5))  # 20\n"
      ],
      "metadata": {
        "colab": {
          "base_uri": "https://localhost:8080/"
        },
        "id": "x2B5yTiNNSeE",
        "outputId": "1176a599-b469-4de6-cda9-facd12576b19"
      },
      "execution_count": 10,
      "outputs": [
        {
          "output_type": "stream",
          "name": "stdout",
          "text": [
            "20\n"
          ]
        }
      ]
    },
    {
      "cell_type": "code",
      "source": [
        "# 4. Purpose of the `return` statement in a Python function:\n",
        "# The `return` statement is used to send a value back from a function.\n",
        "\n",
        "def square(x):\n",
        "    return x * x\n",
        "\n",
        "result = square(4)  # 16\n"
      ],
      "metadata": {
        "id": "aH2OgL6WNUu1"
      },
      "execution_count": 8,
      "outputs": []
    },
    {
      "cell_type": "code",
      "source": [
        "# 5. Iterators vs. Iterables in Python:\n",
        "# Iterables can be looped over (like lists, tuples).\n",
        "# Iterators are objects that keep track of the current position in an iterable.\n",
        "\n",
        "my_list = [1, 2, 3]\n",
        "my_iterator = iter(my_list)\n",
        "\n",
        "print(next(my_iterator))  # 1\n",
        "print(next(my_iterator))  # 2\n"
      ],
      "metadata": {
        "colab": {
          "base_uri": "https://localhost:8080/"
        },
        "id": "q93kOj1dNWpR",
        "outputId": "fe7dc2aa-d1d0-4b00-bdfb-60157d580f81"
      },
      "execution_count": 7,
      "outputs": [
        {
          "output_type": "stream",
          "name": "stdout",
          "text": [
            "1\n",
            "2\n"
          ]
        }
      ]
    },
    {
      "cell_type": "code",
      "source": [
        "# 6. Generators in Python:\n",
        "# Generators are a type of iterable that generate values on the fly using `yield`.\n",
        "\n",
        "def my_generator():\n",
        "    yield 1\n",
        "    yield 2\n",
        "    yield 3\n",
        "\n",
        "for value in my_generator():  # 1, 2, 3\n",
        "    print(value)\n"
      ],
      "metadata": {
        "colab": {
          "base_uri": "https://localhost:8080/"
        },
        "id": "aaTqkWbeNYuN",
        "outputId": "cb2eda43-13b1-4b07-eb07-27a2c17d0522"
      },
      "execution_count": 6,
      "outputs": [
        {
          "output_type": "stream",
          "name": "stdout",
          "text": [
            "1\n",
            "2\n",
            "3\n"
          ]
        }
      ]
    },
    {
      "cell_type": "code",
      "source": [
        "# 7. Advantages of using generators:\n",
        "# - They are memory efficient since they yield one item at a time.\n",
        "# - They can represent infinite sequences.\n",
        "\n",
        "def count_up_to(n):\n",
        "    count = 1\n",
        "    while count <= n:\n",
        "        yield count\n",
        "        count += 1\n",
        "\n",
        "gen = count_up_to(5)\n",
        "for number in gen:  # 1, 2, 3, 4, 5\n",
        "    print(number)\n"
      ],
      "metadata": {
        "colab": {
          "base_uri": "https://localhost:8080/"
        },
        "id": "_fYgkP8RNbLx",
        "outputId": "e16e2ce7-0b6a-4097-c29c-c11f4e8989c6"
      },
      "execution_count": 5,
      "outputs": [
        {
          "output_type": "stream",
          "name": "stdout",
          "text": [
            "1\n",
            "2\n",
            "3\n",
            "4\n",
            "5\n"
          ]
        }
      ]
    },
    {
      "cell_type": "code",
      "source": [
        "# 8. Lambda functions in Python:\n",
        "# A lambda function is a small anonymous function defined with the `lambda` keyword.\n",
        "# They are used for short functions that are not reused.\n",
        "\n",
        "add = lambda x, y: x + y\n",
        "print(add(3, 5))  # 8\n"
      ],
      "metadata": {
        "colab": {
          "base_uri": "https://localhost:8080/"
        },
        "id": "-sb4EUFcNd8L",
        "outputId": "99d222cf-92b1-4e3d-b0ef-a97e1971d053"
      },
      "execution_count": 4,
      "outputs": [
        {
          "output_type": "stream",
          "name": "stdout",
          "text": [
            "8\n"
          ]
        }
      ]
    },
    {
      "cell_type": "code",
      "source": [
        "# 9. Purpose and usage of the `map()` function:\n",
        "# The `map()` function applies a function to all items in an iterable.\n",
        "\n",
        "def square(x):\n",
        "    return x * x\n",
        "\n",
        "result = list(map(square, [1, 2, 3, 4]))  # [1, 4, 9, 16]\n"
      ],
      "metadata": {
        "id": "rSOi1vBtNhIf"
      },
      "execution_count": 3,
      "outputs": []
    },
    {
      "cell_type": "code",
      "source": [
        "# 10. Difference between `map()`, `reduce()`, and `filter()`:\n",
        "# - `map()`: Applies a function to all items and returns a new iterable.\n",
        "# - `filter()`: Returns items that satisfy a condition.\n",
        "# - `reduce()`: Reduces an iterable to a single value using a function.\n",
        "\n",
        "from functools import reduce\n",
        "\n",
        "numbers = [1, 2, 3, 4]\n",
        "\n",
        "squared = list(map(lambda x: x**2, numbers))  # [1, 4, 9, 16]\n",
        "even_numbers = list(filter(lambda x: x % 2 == 0, numbers))  # [2, 4]\n",
        "sum_numbers = reduce(lambda x, y: x + y, numbers)  # 10\n"
      ],
      "metadata": {
        "id": "erJXczspNisF"
      },
      "execution_count": 2,
      "outputs": []
    }
  ]
}