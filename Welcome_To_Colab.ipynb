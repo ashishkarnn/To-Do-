{
  "cells": [
    {
      "cell_type": "markdown",
      "metadata": {
        "id": "view-in-github",
        "colab_type": "text"
      },
      "source": [
        "<a href=\"https://colab.research.google.com/github/ashishkarnn/To-Do-/blob/main/Welcome_To_Colab.ipynb\" target=\"_parent\"><img src=\"https://colab.research.google.com/assets/colab-badge.svg\" alt=\"Open In Colab\"/></a>"
      ]
    },
    {
      "cell_type": "code",
      "source": [
        "# 1. What are the five key concepts of Object-Oriented Programming (OOP)?\n",
        "# Encapsulation : Encapsulation refers to bundling the data (variables) and the methods (functions) that operate on the data into a single unit, usually a class. It also restricts direct access to certain components.\n",
        "class Person:\n",
        "    def __init__(self, name, age):\n",
        "        self.__name = name   # Private variable\n",
        "        self.__age = age     # Private variable\n",
        "\n",
        "    def get_name(self):\n",
        "        return self.__name\n",
        "\n",
        "    def set_name(self, name):\n",
        "        self.__name = name\n",
        "\n"
      ],
      "metadata": {
        "id": "NbS-vMddtsti"
      },
      "execution_count": 3,
      "outputs": []
    },
    {
      "cell_type": "code",
      "source": [],
      "metadata": {
        "id": "vDwxywgPu3kV"
      },
      "execution_count": null,
      "outputs": []
    },
    {
      "cell_type": "code",
      "source": [
        "#  Abstraction : Abstraction involves hiding complex implementation details and showing only the essential features to the user. This allows focusing on what an object does instead of how it does it.\n",
        "from abc import ABC, abstractmethod\n",
        "\n",
        "class Vehicle(ABC):\n",
        "    @abstractmethod\n",
        "    def start_engine(self):\n",
        "        pass\n",
        "\n",
        "class Car(Vehicle):\n",
        "    def start_engine(self):\n",
        "        print(\"Car engine started\")\n",
        "\n",
        "car = Car()\n",
        "car.start_engine()  # Outputs: Car engine started\n"
      ],
      "metadata": {
        "colab": {
          "base_uri": "https://localhost:8080/"
        },
        "id": "PbQp2v3quMnV",
        "outputId": "070d8645-34ec-4316-acd4-816cdeca920b"
      },
      "execution_count": 4,
      "outputs": [
        {
          "output_type": "stream",
          "name": "stdout",
          "text": [
            "Car engine started\n"
          ]
        }
      ]
    },
    {
      "cell_type": "code",
      "source": [
        "# Inheritance : Inheritance allows a class (child) to inherit attributes and methods from another class (parent), promoting code reusability.\n",
        "class Animal:\n",
        "    def sound(self):\n",
        "        print(\"Animals make sounds\")\n",
        "\n",
        "class Dog(Animal):\n",
        "    def sound(self):\n",
        "        print(\"Dog barks\")\n",
        "\n",
        "dog = Dog()\n",
        "dog.sound()  # Outputs: Dog barks\n",
        "\n"
      ],
      "metadata": {
        "colab": {
          "base_uri": "https://localhost:8080/"
        },
        "id": "NHk0hMBUu5vy",
        "outputId": "c4741c1a-d363-4a0f-9598-588dfc02d384"
      },
      "execution_count": 5,
      "outputs": [
        {
          "output_type": "stream",
          "name": "stdout",
          "text": [
            "Dog barks\n"
          ]
        }
      ]
    },
    {
      "cell_type": "code",
      "source": [
        "# Polymorphism : Polymorphism means \"many forms\" and allows objects of different types to be accessed through the same interface. It enables method overriding and operator overloading.\n",
        "class Bird:\n",
        "    def fly(self):\n",
        "        print(\"Birds can fly\")\n",
        "\n",
        "class Penguin(Bird):\n",
        "    def fly(self):\n",
        "        print(\"Penguins cannot fly\")\n",
        "\n",
        "bird = Bird()\n",
        "penguin = Penguin()\n",
        "\n",
        "bird.fly()      # Outputs: Birds can fly\n",
        "penguin.fly()   # Outputs: Penguins cannot fly\n"
      ],
      "metadata": {
        "colab": {
          "base_uri": "https://localhost:8080/"
        },
        "id": "1Ggry62rvIxE",
        "outputId": "8049bfad-e1f3-47f7-fc25-b4cbdd381c47"
      },
      "execution_count": 7,
      "outputs": [
        {
          "output_type": "stream",
          "name": "stdout",
          "text": [
            "Birds can fly\n",
            "Penguins cannot fly\n"
          ]
        }
      ]
    },
    {
      "cell_type": "code",
      "source": [
        "# Association : Association: A relationship between two independent objects"
      ],
      "metadata": {
        "id": "0uGgwOpvE2j5"
      },
      "execution_count": null,
      "outputs": []
    },
    {
      "cell_type": "code",
      "source": [
        "#  Write a Python class for a `Car` with attributes for `make`, `model`, and `year`. Include a method to display\n",
        "# the car's information.\n",
        "class Car:\n",
        "    def __init__(self, make, model, year):\n",
        "        self.make = make\n",
        "        self.model = model\n",
        "        self.year = year\n",
        "\n",
        "    def display_info(self):\n",
        "        print(f\"Car Info: {self.year} {self.make} {self.model}\")\n",
        "\n",
        "# Creating an instance of the Car class\n",
        "my_car = Car(\"Toyota\", \"Corolla\", 2020)\n",
        "\n",
        "# Displaying the car's information\n",
        "my_car.display_info()\n"
      ],
      "metadata": {
        "colab": {
          "base_uri": "https://localhost:8080/"
        },
        "id": "e74VbTmhE6sy",
        "outputId": "8d85dd76-58ff-4874-9ac7-52d2c1f18c06"
      },
      "execution_count": 1,
      "outputs": [
        {
          "output_type": "stream",
          "name": "stdout",
          "text": [
            "Car Info: 2020 Toyota Corolla\n"
          ]
        }
      ]
    },
    {
      "cell_type": "code",
      "source": [
        "# Explain the difference between instance methods and class methods. Provide an example of each.\n",
        "# In Python, **instance methods** and **class methods** differ in terms of their behavior, how they are called, and what kind of data they operate on. Let's break down the differences with examples.\n",
        "\n",
        "## **1. Instance Methods**\n",
        "# - **Definition**: Methods that belong to an *instance* of a class.\n",
        "# - **Access**: They can access and modify the **instance’s attributes** (data specific to that object).\n",
        "# - **Binding**: The first parameter is always `self`, which refers to the particular instance calling the method.\n",
        "# - **Use Case**: Operate on individual object data.\n",
        "\n",
        "### **Example of an Instance Method**:\n",
        "\n",
        "class Car:\n",
        "    def __init__(self, make, model, year):\n",
        "        self.make = make\n",
        "        self.model = model\n",
        "        self.year = year\n",
        "\n",
        "    def display_info(self):  # Instance method\n",
        "        print(f\"Car Info: {self.year} {self.make} {self.model}\")\n",
        "\n",
        "# Creating an instance of Car\n",
        "my_car = Car(\"Toyota\", \"Camry\", 2021)\n",
        "my_car.display_info()  # Output: Car Info: 2021 Toyota Camry\n",
        "\n",
        "\n",
        "# - **Explanation**:\n",
        "#   - The `display_info()` method accesses the `make`, `model`, and `year` attributes belonging to the instance (`my_car`).\n",
        "#   - It is called using the **object instance**: `my_car.display_info()`.\n",
        "\n",
        "# ---\n",
        "\n",
        "## **2. Class Methods**\n",
        "# - **Definition**: Methods that belong to the **class** rather than any individual instance.\n",
        "# - **Access**: They can access or modify **class-level attributes** (shared by all instances).\n",
        "# - **Binding**: The first parameter is always `cls`, which refers to the class itself, not an instance.\n",
        "# - **Use Case**: Operate on data shared across all instances or provide alternate constructors.\n",
        "\n",
        "### **Example of a Class Method**:\n",
        "\n",
        "class Car:\n",
        "    total_cars = 0  # Class-level attribute\n",
        "\n",
        "    def __init__(self, make, model, year):\n",
        "        self.make = make\n",
        "        self.model = model\n",
        "        self.year = year\n",
        "        Car.total_cars += 1  # Increment the class attribute\n",
        "\n",
        "    @classmethod\n",
        "    def display_total_cars(cls):  # Class method\n",
        "        print(f\"Total Cars: {cls.total_cars}\")\n",
        "\n",
        "# Creating multiple instances\n",
        "car1 = Car(\"Honda\", \"Civic\", 2022)\n",
        "car2 = Car(\"Ford\", \"Fusion\", 2019)\n",
        "\n",
        "# Calling the class method\n",
        "Car.display_total_cars()  # Output: Total Cars: 2\n",
        "\n",
        "\n",
        "# - **Explanation**:\n",
        "#   - `display_total_cars()` is a **class method** that operates on the class-level attribute `total_cars`.\n",
        "#   - It is called using the **class name**: `Car.display_total_cars()`. This method doesn't operate on any specific instance.\n",
        "\n",
        "\n",
        "\n",
        "\n",
        "\n",
        "\n"
      ],
      "metadata": {
        "colab": {
          "base_uri": "https://localhost:8080/"
        },
        "id": "382Qi018FKBJ",
        "outputId": "f6aae719-c85f-4f65-f70f-db41830a7c11"
      },
      "execution_count": 2,
      "outputs": [
        {
          "output_type": "stream",
          "name": "stdout",
          "text": [
            "Car Info: 2021 Toyota Camry\n",
            "Total Cars: 2\n"
          ]
        }
      ]
    },
    {
      "cell_type": "code",
      "source": [
        "### **Method Overloading in Python **\n",
        "\n",
        "# Python **doesn't support true method overloading**. Instead, we can achieve similar behavior using **default arguments** or **`*args`**.\n",
        "\n",
        "\n",
        "\n",
        "### **Example 1: Using Default Arguments**\n",
        "class Calculator:\n",
        "    def add(self, a, b=0):\n",
        "        return a + b\n",
        "\n",
        "calc = Calculator()\n",
        "print(calc.add(5))       # Output: 5\n",
        "print(calc.add(5, 10))   # Output: 15\n",
        "\n",
        "# - **Explanation**: If only one argument is provided, the second argument defaults to 0.\n",
        "\n",
        "\n",
        "\n",
        "### **Example 2: Using `*args`**\n",
        "class Calculator:\n",
        "    def add(self, *args):\n",
        "        return sum(args)\n",
        "\n",
        "calc = Calculator()\n",
        "print(calc.add(5))           # Output: 5\n",
        "print(calc.add(5, 10))       # Output: 15\n",
        "print(calc.add(5, 10, 15))   # Output: 30\n",
        "\n",
        "# - **Explanation**: `*args` allows the method to accept any number of arguments.\n",
        "\n",
        "\n",
        "### **Summary**\n",
        "# - Python **simulates method overloading** by using **default parameters** or **`*args`**.\n",
        "# - This makes methods flexible without needing multiple versions of the same method."
      ],
      "metadata": {
        "colab": {
          "base_uri": "https://localhost:8080/"
        },
        "id": "12AbaMRvGI_1",
        "outputId": "df67fedd-4ac9-40ed-9ead-37e24760a6cc"
      },
      "execution_count": 3,
      "outputs": [
        {
          "output_type": "stream",
          "name": "stdout",
          "text": [
            "5\n",
            "15\n",
            "5\n",
            "15\n",
            "30\n"
          ]
        }
      ]
    },
    {
      "cell_type": "code",
      "source": [
        "# 4. Python does not support traditional method overloading.\n",
        "# The latest method with the same name overrides the previous ones.\n",
        "\n",
        "class Example:\n",
        "    def display(self, a=None, b=None):\n",
        "        if a is not None and b is not None:\n",
        "            print(a + b)\n",
        "        elif a is not None:\n",
        "            print(a)\n",
        "        else:\n",
        "            print(\"No arguments\")\n",
        "\n",
        "obj = Example()\n",
        "obj.display(5)    # 5\n",
        "obj.display(2, 3) # 5\n"
      ],
      "metadata": {
        "colab": {
          "base_uri": "https://localhost:8080/"
        },
        "id": "oCFQWrp0G7pt",
        "outputId": "a9bc1258-2501-4849-da54-22c0c97d7e81"
      },
      "execution_count": 4,
      "outputs": [
        {
          "output_type": "stream",
          "name": "stdout",
          "text": [
            "5\n",
            "5\n"
          ]
        }
      ]
    },
    {
      "cell_type": "code",
      "source": [
        "# 5. Access Modifiers in Python:\n",
        "# Public: No underscore (_) prefix\n",
        "# Protected: Single underscore (_)\n",
        "# Private: Double underscore (__)\n",
        "\n",
        "class Example:\n",
        "    public_var = 10        # Public\n",
        "    _protected_var = 20     # Protected\n",
        "    __private_var = 30      # Private\n"
      ],
      "metadata": {
        "id": "bDAzArt_Hilk"
      },
      "execution_count": 5,
      "outputs": []
    },
    {
      "cell_type": "code",
      "source": [
        "# 6. Types of Inheritance:\n",
        "# Single, Multiple, Multilevel, Hierarchical, Hybrid\n",
        "\n",
        "class A:\n",
        "    def feature1(self):\n",
        "        print(\"Feature 1\")\n",
        "\n",
        "class B:\n",
        "    def feature2(self):\n",
        "        print(\"Feature 2\")\n",
        "\n",
        "class C(A, B): # Multiple Inheritance\n",
        "    pass\n",
        "\n",
        "obj = C()\n",
        "obj.feature1() # Feature 1\n",
        "obj.feature2() # Feature 2\n"
      ],
      "metadata": {
        "colab": {
          "base_uri": "https://localhost:8080/"
        },
        "id": "mqtSPjqOHnSa",
        "outputId": "644225ac-e2c0-4e44-f0ed-beb8a83ef74c"
      },
      "execution_count": 6,
      "outputs": [
        {
          "output_type": "stream",
          "name": "stdout",
          "text": [
            "Feature 1\n",
            "Feature 2\n"
          ]
        }
      ]
    },
    {
      "cell_type": "code",
      "source": [
        "# 7. MRO defines the order in which classes are searched for a method.\n",
        "# Use the mro() method to get it.\n",
        "\n",
        "class A: pass\n",
        "class B(A): pass\n",
        "print(B.mro())  # [<class '__main__.B'>, <class '__main__.A'>, <class 'object'>]\n"
      ],
      "metadata": {
        "colab": {
          "base_uri": "https://localhost:8080/"
        },
        "id": "t8S9rmAcHslI",
        "outputId": "447260d3-3021-42c9-8501-4a93d9a50a33"
      },
      "execution_count": 7,
      "outputs": [
        {
          "output_type": "stream",
          "name": "stdout",
          "text": [
            "[<class '__main__.B'>, <class '__main__.A'>, <class 'object'>]\n"
          ]
        }
      ]
    },
    {
      "cell_type": "code",
      "source": [
        "# 8. Abstract Base Class Example\n",
        "\n",
        "from abc import ABC, abstractmethod\n",
        "\n",
        "class Shape(ABC):\n",
        "    @abstractmethod\n",
        "    def area(self):\n",
        "        pass\n",
        "\n",
        "class Circle(Shape):\n",
        "    def __init__(self, radius):\n",
        "        self.radius = radius\n",
        "\n",
        "    def area(self):\n",
        "        return 3.14 * self.radius * self.radius\n",
        "\n",
        "class Rectangle(Shape):\n",
        "    def __init__(self, length, width):\n",
        "        self.length = length\n",
        "        self.width = width\n",
        "\n",
        "    def area(self):\n",
        "        return self.length * self.width\n"
      ],
      "metadata": {
        "id": "IC8nCOR0HvuA"
      },
      "execution_count": 8,
      "outputs": []
    },
    {
      "cell_type": "code",
      "source": [
        "# 9. Demonstrating Polymorphism\n",
        "\n",
        "def print_area(shape):\n",
        "    print(\"Area:\", shape.area())\n",
        "\n",
        "c = Circle(5)\n",
        "r = Rectangle(4, 6)\n",
        "print_area(c)  # Area: 78.5\n",
        "print_area(r)  # Area: 24\n"
      ],
      "metadata": {
        "colab": {
          "base_uri": "https://localhost:8080/"
        },
        "id": "VWqmgzKGHz_w",
        "outputId": "5c63b898-bda0-4518-f01e-55c42f7b0a1b"
      },
      "execution_count": 9,
      "outputs": [
        {
          "output_type": "stream",
          "name": "stdout",
          "text": [
            "Area: 78.5\n",
            "Area: 24\n"
          ]
        }
      ]
    },
    {
      "cell_type": "code",
      "source": [
        "# 10. Encapsulation in Python\n",
        "\n",
        "class BankAccount:\n",
        "    def __init__(self, account_number, balance=0):\n",
        "        self.__account_number = account_number  # Private\n",
        "        self.__balance = balance  # Private\n",
        "\n",
        "    def deposit(self, amount):\n",
        "        self.__balance += amount\n",
        "\n",
        "    def withdraw(self, amount):\n",
        "        if amount <= self.__balance:\n",
        "            self.__balance -= amount\n",
        "\n",
        "    def get_balance(self):\n",
        "        return self.__balance\n"
      ],
      "metadata": {
        "id": "5ulilm5aH3iV"
      },
      "execution_count": 10,
      "outputs": []
    },
    {
      "cell_type": "code",
      "source": [
        "# 11. Overriding __str__ and __add__ Magic Methods\n",
        "\n",
        "class Example:\n",
        "    def __init__(self, value):\n",
        "        self.value = value\n",
        "\n",
        "    def __str__(self):\n",
        "        return f\"Value: {self.value}\"\n",
        "\n",
        "    def __add__(self, other):\n",
        "        return Example(self.value + other.value)\n",
        "\n",
        "a = Example(5)\n",
        "b = Example(10)\n",
        "print(a)            # Value: 5\n",
        "print(a + b)        # Value: 15\n"
      ],
      "metadata": {
        "colab": {
          "base_uri": "https://localhost:8080/"
        },
        "id": "ea_MOqwiH6ps",
        "outputId": "1bdf8be3-1599-4a0b-d546-e0f5e8d5164a"
      },
      "execution_count": 11,
      "outputs": [
        {
          "output_type": "stream",
          "name": "stdout",
          "text": [
            "Value: 5\n",
            "Value: 15\n"
          ]
        }
      ]
    },
    {
      "cell_type": "code",
      "source": [],
      "metadata": {
        "id": "o52mB2OEH94K"
      },
      "execution_count": null,
      "outputs": []
    },
    {
      "cell_type": "code",
      "source": [
        "# 12. Decorator to Measure Execution Time\n",
        "\n",
        "import time\n",
        "\n",
        "def timer(func):\n",
        "    def wrapper(*args, **kwargs):\n",
        "        start = time.time()\n",
        "        result = func(*args, **kwargs)\n",
        "        end = time.time()\n",
        "        print(f\"Execution time: {end - start} seconds\")\n",
        "        return result\n",
        "    return wrapper\n",
        "\n",
        "@timer\n",
        "def example_function():\n",
        "    time.sleep(1)\n",
        "\n",
        "example_function()  # Execution time: 1.0 seconds\n"
      ],
      "metadata": {
        "colab": {
          "base_uri": "https://localhost:8080/"
        },
        "id": "bLYNi5VBH966",
        "outputId": "c3be3f8f-4b1c-4b8d-ea8b-f4db5f59c804"
      },
      "execution_count": 12,
      "outputs": [
        {
          "output_type": "stream",
          "name": "stdout",
          "text": [
            "Execution time: 1.0017597675323486 seconds\n"
          ]
        }
      ]
    },
    {
      "cell_type": "code",
      "source": [
        "# 13. Diamond Problem: Multiple inheritance where two classes inherit the same base class.\n",
        "\n",
        "class A: pass\n",
        "class B(A): pass\n",
        "class C(A): pass\n",
        "class D(B, C): pass\n",
        "\n",
        "# Python uses MRO to resolve the Diamond Problem.\n",
        "print(D.mro())  # [<class '__main__.D'>, <class '__main__.B'>, <class '__main__.C'>, <class '__main__.A'>, <class 'object'>]\n"
      ],
      "metadata": {
        "colab": {
          "base_uri": "https://localhost:8080/"
        },
        "id": "Hv4hp6VPIBnB",
        "outputId": "7cc86be0-ace8-438a-e4e0-3f678111271f"
      },
      "execution_count": 13,
      "outputs": [
        {
          "output_type": "stream",
          "name": "stdout",
          "text": [
            "[<class '__main__.D'>, <class '__main__.B'>, <class '__main__.C'>, <class '__main__.A'>, <class 'object'>]\n"
          ]
        }
      ]
    },
    {
      "cell_type": "code",
      "source": [
        "# 14. Class Method to Track Instances\n",
        "\n",
        "class Example:\n",
        "    count = 0\n",
        "\n",
        "    def __init__(self):\n",
        "        Example.count += 1\n",
        "\n",
        "    @classmethod\n",
        "    def get_instance_count(cls):\n",
        "        return cls.count\n",
        "\n",
        "a = Example()\n",
        "b = Example()\n",
        "print(Example.get_instance_count())  # 2\n"
      ],
      "metadata": {
        "colab": {
          "base_uri": "https://localhost:8080/"
        },
        "id": "7hSgeRFZIFhZ",
        "outputId": "d43f0b3c-106d-4a43-9d59-e3b7dd7eaa83"
      },
      "execution_count": 14,
      "outputs": [
        {
          "output_type": "stream",
          "name": "stdout",
          "text": [
            "2\n"
          ]
        }
      ]
    },
    {
      "cell_type": "code",
      "source": [
        "# 15. Static Method to Check Leap Year\n",
        "\n",
        "class Year:\n",
        "    @staticmethod\n",
        "    def is_leap(year):\n",
        "        return year % 4 == 0 and (year % 100 != 0 or year % 400 == 0)\n",
        "\n",
        "print(Year.is_leap(2020))  # True\n",
        "print(Year.is_leap(2023))  # False\n"
      ],
      "metadata": {
        "colab": {
          "base_uri": "https://localhost:8080/"
        },
        "id": "rSsKDKGlIKMu",
        "outputId": "08c07d81-8f3f-4934-a187-2069c7daf2a4"
      },
      "execution_count": 15,
      "outputs": [
        {
          "output_type": "stream",
          "name": "stdout",
          "text": [
            "True\n",
            "False\n"
          ]
        }
      ]
    }
  ],
  "metadata": {
    "colab": {
      "name": "Welcome To Colab",
      "provenance": [],
      "include_colab_link": true
    },
    "kernelspec": {
      "display_name": "Python 3",
      "name": "python3"
    }
  },
  "nbformat": 4,
  "nbformat_minor": 0
}